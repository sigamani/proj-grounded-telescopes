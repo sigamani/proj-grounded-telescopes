{
 "cells": [
  {
   "cell_type": "markdown",
   "metadata": {},
   "source": [
    "# Ray Data LLM Test Notebook"
   ]
  },
  {
   "cell_type": "markdown",
   "metadata": {},
   "source": [
    "This notebook demonstrates how to use Ray Data LLM for batch inference using the examples provided in the repository.\n"
   ]
  },
  {
   "cell_type": "markdown",
   "metadata": {},
   "source": [
    "## 1. Initialize Ray"
   ]
  },
  {
   "cell_type": "code",
   "execution_count": null,
   "metadata": {
    "vscode": {
     "languageId": "plaintext"
    }
   },
   "outputs": [],
   "source": [
    "# Section 1: Initialize Ray\n",
    "import ray\n",
    "\n",
    "# Initialize Ray - this will connect to the running Ray cluster\n",
    "ray.init(address=\"auto\")\n",
    "print(\"Ray initialized successfully!\")"
   ]
  },
  {
   "cell_type": "markdown",
   "metadata": {},
   "source": [
    "## 2. Import Ray Data LLM Functions"
   ]
  },
  {
   "cell_type": "code",
   "execution_count": null,
   "metadata": {
    "vscode": {
     "languageId": "plaintext"
    }
   },
   "outputs": [],
   "source": [
    "# Section 2: Import Ray Data LLM Functions\n",
    "import sys\n",
    "sys.path.append('../scripts')\n",
    "\n",
    "# We'll directly import the functions from the scripts\n",
    "from ray.data.llm import vLLMEngineProcessorConfig, build_llm_processor\n",
    "import numpy as np"
   ]
  },
  {
   "cell_type": "markdown",
   "metadata": {},
   "source": [
    "## 3. Prepare a Simple Example"
   ]
  },
  {
   "cell_type": "markdown",
   "metadata": {},
   "source": [
    "For testing purposes, we'll use a simpler model due to resource constraints."
   ]
  },
  {
   "cell_type": "code",
   "execution_count": null,
   "metadata": {
    "vscode": {
     "languageId": "plaintext"
    }
   },
   "outputs": [],
   "source": [
    "# Section 3: Prepare a Simple Example\n",
    "# List of simple questions for batch processing\n",
    "questions = [\n",
    "    \"What is the capital of France?\",\n",
    "    \"How many planets are in our solar system?\",\n",
    "    \"What is 2+2?\",\n",
    "    \"Tell me a joke.\"\n",
    "]\n",
    "\n",
    "# Create a Ray dataset from the questions\n",
    "ds = ray.data.from_items([{\"question\": q} for q in questions])\n",
    "ds.show()"
   ]
  },
  {
   "cell_type": "markdown",
   "metadata": {},
   "source": [
    "## 4. Test with an Open-Source Model"
   ]
  },
  {
   "cell_type": "markdown",
   "metadata": {},
   "source": [
    "Instead of using heavy models like Llama, we'll use a smaller model for testing."
   ]
  },
  {
   "cell_type": "code",
   "execution_count": null,
   "metadata": {
    "vscode": {
     "languageId": "plaintext"
    }
   },
   "outputs": [],
   "source": [
    "# Section 4: Test with an Open-Source Model\n",
    "try:\n",
    "    # Since we're in a CPU environment, let's use a simpler approach\n",
    "    from ray.data.preprocessors import BatchMapper\n",
    "    from transformers import pipeline\n",
    "    \n",
    "    # Create a simple text generation pipeline with a small model\n",
    "    pipe = pipeline(\n",
    "        \"text-generation\", \n",
    "        model=\"TinyLlama/TinyLlama-1.1B-Chat-v1.0\",  # A much smaller model\n",
    "        max_length=100,\n",
    "        temperature=0.7\n",
    "    )\n",
    "    \n",
    "    # Define a batch processing function\n",
    "    def process_batch(batch):\n",
    "        questions = batch[\"question\"]\n",
    "        prompts = [f\"Q: {q}\\nA:\" for q in questions]\n",
    "        results = pipe(prompts)\n",
    "        \n",
    "        # Extract generated text\n",
    "        answers = []\n",
    "        for res in results:\n",
    "            if isinstance(res, list):\n",
    "                text = res[0]['generated_text']\n",
    "            else:\n",
    "                text = res['generated_text']\n",
    "            # Remove the prompt from the answer\n",
    "            answer = text.split(\"A:\")[-1].strip()\n",
    "            answers.append(answer)\n",
    "            \n",
    "        batch[\"answer\"] = answers\n",
    "        return batch\n",
    "    \n",
    "    # Apply batch processing\n",
    "    result_ds = ds.map_batches(process_batch, batch_size=2)\n",
    "    result_ds.show()\n",
    "    \n",
    "except Exception as e:\n",
    "    print(f\"Error using transformers pipeline: {e}\")\n",
    "    print(\"\\nFalling back to a simpler approach...\")\n",
    "    \n",
    "    # Fallback to a very simple text generation\n",
    "    def simple_answer_generator(batch):\n",
    "        questions = batch[\"question\"]\n",
    "        answers = []\n",
    "        \n",
    "        for q in questions:\n",
    "            if \"capital of France\" in q.lower():\n",
    "                answers.append(\"The capital of France is Paris.\")\n",
    "            elif \"planets\" in q.lower():\n",
    "                answers.append(\"There are 8 planets in our solar system.\")\n",
    "            elif \"2+2\" in q:\n",
    "                answers.append(\"2+2 equals 4.\")\n",
    "            elif \"joke\" in q.lower():\n",
    "                answers.append(\"Why don't scientists trust atoms? Because they make up everything!\")\n",
    "            else:\n",
    "                answers.append(\"I don't have an answer for that question.\")\n",
    "                \n",
    "        batch[\"answer\"] = answers\n",
    "        return batch\n",
    "    \n",
    "    # Apply simple processing\n",
    "    result_ds = ds.map_batches(simple_answer_generator, batch_size=2)\n",
    "    result_ds.show()"
   ]
  },
  {
   "cell_type": "markdown",
   "metadata": {},
   "source": [
    "## 5. Examine the Results"
   ]
  },
  {
   "cell_type": "markdown",
   "metadata": {},
   "source": [
    "Let's fetch all results and display them in a more readable format."
   ]
  },
  {
   "cell_type": "code",
   "execution_count": null,
   "metadata": {
    "vscode": {
     "languageId": "plaintext"
    }
   },
   "outputs": [],
   "source": [
    "# Section 5: Examine the Results\n",
    "results = result_ds.take_all()\n",
    "\n",
    "for i, item in enumerate(results):\n",
    "    print(f\"Question {i+1}: {item['question']}\")\n",
    "    print(f\"Answer: {item['answer']}\")\n",
    "    print(\"-\" * 50)"
   ]
  },
  {
   "cell_type": "markdown",
   "metadata": {},
   "source": [
    "## 6. Cleanup"
   ]
  },
  {
   "cell_type": "markdown",
   "metadata": {},
   "source": [
    "Shut down Ray when done."
   ]
  },
  {
   "cell_type": "code",
   "execution_count": null,
   "metadata": {
    "vscode": {
     "languageId": "plaintext"
    }
   },
   "outputs": [],
   "source": [
    "# Section 6: Cleanup\n",
    "# Shutdown Ray\n",
    "ray.shutdown()\n",
    "print(\"Ray has been shut down.\")"
   ]
  }
 ],
 "metadata": {
  "language_info": {
   "name": "python"
  }
 },
 "nbformat": 4,
 "nbformat_minor": 2
}
